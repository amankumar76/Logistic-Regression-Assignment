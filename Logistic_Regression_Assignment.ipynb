{
  "nbformat": 4,
  "nbformat_minor": 0,
  "metadata": {
    "colab": {
      "provenance": []
    },
    "kernelspec": {
      "name": "python3",
      "display_name": "Python 3"
    },
    "language_info": {
      "name": "python"
    }
  },
  "cells": [
    {
      "cell_type": "markdown",
      "source": [
        "# Logistic Regression Assignment\n",
        "\n",
        "# ==============================\n",
        "# Question 1\n",
        "# ==============================\n",
        "\n",
        "# What is Logistic Regression, and how does it differ from Linear Regression?\n",
        "# Answer:\n",
        "\"\"\"\n",
        "Logistic Regression is a classification algorithm used to predict categorical outcomes.\n",
        "Unlike Linear Regression, which predicts continuous values, Logistic Regression maps\n",
        "predicted values through a sigmoid function to produce probabilities between 0 and 1.\n",
        "These probabilities are then used to classify outcomes (e.g., 0 or 1).\n",
        "\"\"\"\n",
        "\n",
        "# ==============================\n",
        "# Question 2\n",
        "# ==============================\n",
        "\n",
        "# Explain the role of the Sigmoid function in Logistic Regression.\n",
        "# Answer:\n",
        "\"\"\"\n",
        "The Sigmoid function transforms the linear combination of inputs into a probability value\n",
        "between 0 and 1. This allows Logistic Regression to model binary outcomes effectively.\n",
        "\"\"\"\n",
        "\n",
        "# ==============================\n",
        "# Question 3\n",
        "# ==============================\n",
        "\n",
        "# What is Regularization in Logistic Regression and why is it needed?\n",
        "# Answer:\n",
        "\"\"\"\n",
        "Regularization helps prevent overfitting by penalizing large coefficient values in the model.\n",
        "In Logistic Regression, L1 (Lasso) and L2 (Ridge) regularization are commonly used to\n",
        "improve generalization and reduce variance.\n",
        "\"\"\"\n",
        "\n",
        "# ==============================\n",
        "# Question 4\n",
        "# ==============================\n",
        "\n",
        "# What are some common evaluation metrics for classification models, and why are they important?\n",
        "# Answer:\n",
        "\"\"\"\n",
        "Common metrics:\n",
        "- Accuracy: Measures overall correctness.\n",
        "- Precision: Fraction of relevant instances among retrieved ones.\n",
        "- Recall: Fraction of relevant instances retrieved from all relevant ones.\n",
        "- F1-score: Harmonic mean of Precision and Recall.\n",
        "- ROC-AUC: Measures model's ability to distinguish classes.\n",
        "These metrics are important because they give deeper insights beyond accuracy,\n",
        "especially when dealing with imbalanced datasets.\n",
        "\"\"\"\n",
        "\n"
      ],
      "metadata": {
        "id": "-j93GLJCrD_h"
      }
    },
    {
      "cell_type": "markdown",
      "source": [
        "# ==============================\n",
        "# Question 5\n",
        "# ==============================\n",
        "Write a Python program that loads a CSV file into a Pandas DataFrame, splits into train/test sets, trains a Logistic Regression model, and prints its accuracy.\n"
      ],
      "metadata": {
        "id": "YaT4VeH1rRzm"
      }
    },
    {
      "cell_type": "code",
      "source": [
        "# Python program: Logistic Regression basic training\n",
        "from sklearn.datasets import load_breast_cancer\n",
        "from sklearn.model_selection import train_test_split\n",
        "from sklearn.linear_model import LogisticRegression\n",
        "from sklearn.metrics import accuracy_score\n",
        "import pandas as pd\n",
        "\n",
        "# Load dataset\n",
        "data = load_breast_cancer()\n",
        "X = pd.DataFrame(data.data, columns=data.feature_names)\n",
        "y = pd.Series(data.target)\n",
        "\n",
        "# Split train/test\n",
        "X_train, X_test, y_train, y_test = train_test_split(X, y, test_size=0.2, random_state=42)\n",
        "\n",
        "# Train model\n",
        "model = LogisticRegression(max_iter=5000)\n",
        "model.fit(X_train, y_train)\n",
        "\n",
        "# Evaluate\n",
        "y_pred = model.predict(X_test)\n",
        "print(\"Accuracy:\", accuracy_score(y_test, y_pred))"
      ],
      "metadata": {
        "colab": {
          "base_uri": "https://localhost:8080/"
        },
        "id": "peZBtgZFra6l",
        "outputId": "0fda652d-0672-4872-fb65-be5361268938"
      },
      "execution_count": 1,
      "outputs": [
        {
          "output_type": "stream",
          "name": "stdout",
          "text": [
            "Accuracy: 0.956140350877193\n"
          ]
        }
      ]
    },
    {
      "cell_type": "markdown",
      "source": [
        "# ==============================\n",
        "# Question 6\n",
        "# ==============================\n",
        "Write a Python program to train a Logistic Regression model using L2 regularization (Ridge) and print the model coefficients and accuracy."
      ],
      "metadata": {
        "id": "9WkmAer3rwf6"
      }
    },
    {
      "cell_type": "code",
      "source": [
        "from sklearn.linear_model import LogisticRegression\n",
        "\n",
        "# Train model with L2 regularization\n",
        "ridge_model = LogisticRegression(penalty='l2', C=1.0, max_iter=5000)\n",
        "ridge_model.fit(X_train, y_train)\n",
        "\n",
        "print(\"Model coefficients:\", ridge_model.coef_)\n",
        "print(\"Accuracy:\", ridge_model.score(X_test, y_test))"
      ],
      "metadata": {
        "colab": {
          "base_uri": "https://localhost:8080/"
        },
        "id": "to8J5nlDrb24",
        "outputId": "5c27f5ce-0868-4fc6-cde5-932c9748827b"
      },
      "execution_count": 2,
      "outputs": [
        {
          "output_type": "stream",
          "name": "stdout",
          "text": [
            "Model coefficients: [[ 1.0274368   0.22145051 -0.36213488  0.0254667  -0.15623532 -0.23771256\n",
            "  -0.53255786 -0.28369224 -0.22668189 -0.03649446 -0.09710208  1.3705667\n",
            "  -0.18140942 -0.08719575 -0.02245523  0.04736092 -0.04294784 -0.03240188\n",
            "  -0.03473732  0.01160522  0.11165329 -0.50887722 -0.01555395 -0.016857\n",
            "  -0.30773117 -0.77270908 -1.42859535 -0.51092923 -0.74689363 -0.10094404]]\n",
            "Accuracy: 0.956140350877193\n"
          ]
        }
      ]
    },
    {
      "cell_type": "markdown",
      "source": [
        "# ==============================\n",
        "# Question 7\n",
        "# ==============================\n",
        "Write a Python program to train a Logistic Regression model for multiclass classification using multi_class='ovr' and print the classification report.\n"
      ],
      "metadata": {
        "id": "Zr3kO3Gjr9lt"
      }
    },
    {
      "cell_type": "code",
      "source": [
        "from sklearn.datasets import load_iris\n",
        "from sklearn.metrics import classification_report\n",
        "\n",
        "# Load multiclass dataset\n",
        "iris = load_iris()\n",
        "X_iris, y_iris = iris.data, iris.target\n",
        "\n",
        "# Train One-vs-Rest Logistic Regression\n",
        "ovr_model = LogisticRegression(multi_class='ovr', max_iter=5000)\n",
        "ovr_model.fit(X_iris, y_iris)\n",
        "\n",
        "y_pred = ovr_model.predict(X_iris)\n",
        "print(classification_report(y_iris, y_pred))"
      ],
      "metadata": {
        "colab": {
          "base_uri": "https://localhost:8080/"
        },
        "id": "g2gL4lo3sAXE",
        "outputId": "af2c9bc0-a90a-454f-81b2-9514fbfa83ab"
      },
      "execution_count": 3,
      "outputs": [
        {
          "output_type": "stream",
          "name": "stdout",
          "text": [
            "              precision    recall  f1-score   support\n",
            "\n",
            "           0       1.00      1.00      1.00        50\n",
            "           1       0.96      0.90      0.93        50\n",
            "           2       0.91      0.96      0.93        50\n",
            "\n",
            "    accuracy                           0.95       150\n",
            "   macro avg       0.95      0.95      0.95       150\n",
            "weighted avg       0.95      0.95      0.95       150\n",
            "\n"
          ]
        },
        {
          "output_type": "stream",
          "name": "stderr",
          "text": [
            "/usr/local/lib/python3.12/dist-packages/sklearn/linear_model/_logistic.py:1256: FutureWarning: 'multi_class' was deprecated in version 1.5 and will be removed in 1.7. Use OneVsRestClassifier(LogisticRegression(..)) instead. Leave it to its default value to avoid this warning.\n",
            "  warnings.warn(\n"
          ]
        }
      ]
    },
    {
      "cell_type": "markdown",
      "source": [
        "# ==============================\n",
        "# Question 8\n",
        "# ==============================\n",
        "Write a Python program to apply GridSearchCV to tune C and penalty hyperparameters for Logistic Regression and print the best parameters and validation accuracy.\n"
      ],
      "metadata": {
        "id": "-i_8jChjsLEM"
      }
    },
    {
      "cell_type": "code",
      "source": [
        "from sklearn.model_selection import GridSearchCV\n",
        "\n",
        "# Hyperparameter tuning with GridSearchCV\n",
        "param_grid = {\n",
        "    'C': [0.01, 0.1, 1, 10],\n",
        "    'penalty': ['l1', 'l2'],\n",
        "    'solver': ['liblinear']\n",
        "}\n",
        "grid = GridSearchCV(LogisticRegression(max_iter=5000), param_grid, cv=5, scoring='accuracy')\n",
        "grid.fit(X_train, y_train)\n",
        "\n",
        "print(\"Best parameters:\", grid.best_params_)\n",
        "print(\"Best CV accuracy:\", grid.best_score_)"
      ],
      "metadata": {
        "colab": {
          "base_uri": "https://localhost:8080/"
        },
        "id": "Yd0WvGdYsPQN",
        "outputId": "84ec4193-81eb-4621-e134-61c617b2c35d"
      },
      "execution_count": 4,
      "outputs": [
        {
          "output_type": "stream",
          "name": "stdout",
          "text": [
            "Best parameters: {'C': 10, 'penalty': 'l2', 'solver': 'liblinear'}\n",
            "Best CV accuracy: 0.9626373626373628\n"
          ]
        }
      ]
    },
    {
      "cell_type": "markdown",
      "source": [
        "# ==============================\n",
        "# Question 9\n",
        "# ==============================\n",
        " Write a Python program to standardize the features before training LogisticRegression and compare the model's accuracy with and without scaling.\n"
      ],
      "metadata": {
        "id": "H_93lJ4-sUND"
      }
    },
    {
      "cell_type": "code",
      "source": [
        "from sklearn.preprocessing import StandardScaler\n",
        "\n",
        "# Without scaling\n",
        "model_no_scaling = LogisticRegression(max_iter=5000)\n",
        "model_no_scaling.fit(X_train, y_train)\n",
        "print(\"Accuracy without scaling:\", model_no_scaling.score(X_test, y_test))\n",
        "\n",
        "# With scaling\n",
        "scaler = StandardScaler()\n",
        "X_train_scaled = scaler.fit_transform(X_train)\n",
        "X_test_scaled = scaler.transform(X_test)\n",
        "\n",
        "model_scaling = LogisticRegression(max_iter=5000)\n",
        "model_scaling.fit(X_train_scaled, y_train)\n",
        "print(\"Accuracy with scaling:\", model_scaling.score(X_test_scaled, y_test))"
      ],
      "metadata": {
        "colab": {
          "base_uri": "https://localhost:8080/"
        },
        "id": "IS-NPw6IsdiA",
        "outputId": "90af5b8d-6cda-44ba-d29b-b819c3b34fc6"
      },
      "execution_count": 5,
      "outputs": [
        {
          "output_type": "stream",
          "name": "stdout",
          "text": [
            "Accuracy without scaling: 0.956140350877193\n",
            "Accuracy with scaling: 0.9736842105263158\n"
          ]
        }
      ]
    },
    {
      "cell_type": "markdown",
      "source": [
        "# ==============================\n",
        "# Question 10\n",
        "# ==============================\n",
        " Imagine you are working at an e-commerce company that wants to predict which customers will respond to a marketing campaign. Given an imbalanced dataset (only 5% of customers respond), describe the approach you’d take to build a\n",
        "Logistic Regression model — including data handling, feature scaling, balancing classes, hyperparameter tuning, and evaluating the model for this real-world business\n",
        "use case.\n",
        "\n",
        "# Answer:\n",
        "\n",
        "\"\"\"\n",
        "For imbalanced datasets (like only 5% positive responses in marketing campaigns):\n",
        "1. Data Handling: Collect and preprocess data carefully.\n",
        "2. Feature Scaling: Standardize/normalize features for better convergence.\n",
        "3. Class Balancing: Use techniques like SMOTE (oversampling minority class), undersampling,\n",
        "   or assign class weights to Logistic Regression.\n",
        "4. Hyperparameter Tuning: Tune C, penalty type, solver, and class_weight.\n",
        "5. Evaluation: Use metrics like Precision, Recall, F1-score, and ROC-AUC rather than accuracy.\n",
        "   Precision-Recall Curve is especially valuable in imbalanced data.\n",
        "6. Business Impact: Optimize for Recall if the goal is to capture as many responders as possible,\n",
        "   or Precision if cost per contact is high.\n",
        "\"\"\""
      ],
      "metadata": {
        "id": "9X99ABoUs9wD"
      }
    }
  ]
}